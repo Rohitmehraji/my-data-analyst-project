{
 "cells": [
  {
   "cell_type": "code",
   "execution_count": 1,
   "id": "1a475fee",
   "metadata": {},
   "outputs": [],
   "source": [
    "import numpy as np\n",
    "import pandas as pd"
   ]
  },
  {
   "cell_type": "code",
   "execution_count": 2,
   "id": "3e499895",
   "metadata": {},
   "outputs": [],
   "source": [
    "import seaborn as sns\n",
    "import matplotlib.pyplot as plt"
   ]
  },
  {
   "cell_type": "code",
   "execution_count": 3,
   "id": "840114e8",
   "metadata": {},
   "outputs": [],
   "source": [
    "df =pd.read_csv(\"C:/Users/RESHMA MEHRA/OneDrive/Desktop/data analysis project/data/raw.csv\")"
   ]
  },
  {
   "cell_type": "code",
   "execution_count": 4,
   "id": "4ad9bd85",
   "metadata": {},
   "outputs": [
    {
     "data": {
      "text/html": [
       "<div>\n",
       "<style scoped>\n",
       "    .dataframe tbody tr th:only-of-type {\n",
       "        vertical-align: middle;\n",
       "    }\n",
       "\n",
       "    .dataframe tbody tr th {\n",
       "        vertical-align: top;\n",
       "    }\n",
       "\n",
       "    .dataframe thead th {\n",
       "        text-align: right;\n",
       "    }\n",
       "</style>\n",
       "<table border=\"1\" class=\"dataframe\">\n",
       "  <thead>\n",
       "    <tr style=\"text-align: right;\">\n",
       "      <th></th>\n",
       "      <th>gender</th>\n",
       "      <th>race_ethnicity</th>\n",
       "      <th>parental_level_of_education</th>\n",
       "      <th>lunch</th>\n",
       "      <th>test_preparation_course</th>\n",
       "      <th>math_score</th>\n",
       "      <th>reading_score</th>\n",
       "      <th>writing_score</th>\n",
       "    </tr>\n",
       "  </thead>\n",
       "  <tbody>\n",
       "    <tr>\n",
       "      <th>0</th>\n",
       "      <td>female</td>\n",
       "      <td>group B</td>\n",
       "      <td>bachelor's degree</td>\n",
       "      <td>standard</td>\n",
       "      <td>none</td>\n",
       "      <td>72</td>\n",
       "      <td>72</td>\n",
       "      <td>74</td>\n",
       "    </tr>\n",
       "    <tr>\n",
       "      <th>1</th>\n",
       "      <td>female</td>\n",
       "      <td>group C</td>\n",
       "      <td>some college</td>\n",
       "      <td>standard</td>\n",
       "      <td>completed</td>\n",
       "      <td>69</td>\n",
       "      <td>90</td>\n",
       "      <td>88</td>\n",
       "    </tr>\n",
       "    <tr>\n",
       "      <th>2</th>\n",
       "      <td>female</td>\n",
       "      <td>group B</td>\n",
       "      <td>master's degree</td>\n",
       "      <td>standard</td>\n",
       "      <td>none</td>\n",
       "      <td>90</td>\n",
       "      <td>95</td>\n",
       "      <td>93</td>\n",
       "    </tr>\n",
       "    <tr>\n",
       "      <th>3</th>\n",
       "      <td>male</td>\n",
       "      <td>group A</td>\n",
       "      <td>associate's degree</td>\n",
       "      <td>free/reduced</td>\n",
       "      <td>none</td>\n",
       "      <td>47</td>\n",
       "      <td>57</td>\n",
       "      <td>44</td>\n",
       "    </tr>\n",
       "    <tr>\n",
       "      <th>4</th>\n",
       "      <td>male</td>\n",
       "      <td>group C</td>\n",
       "      <td>some college</td>\n",
       "      <td>standard</td>\n",
       "      <td>none</td>\n",
       "      <td>76</td>\n",
       "      <td>78</td>\n",
       "      <td>75</td>\n",
       "    </tr>\n",
       "    <tr>\n",
       "      <th>...</th>\n",
       "      <td>...</td>\n",
       "      <td>...</td>\n",
       "      <td>...</td>\n",
       "      <td>...</td>\n",
       "      <td>...</td>\n",
       "      <td>...</td>\n",
       "      <td>...</td>\n",
       "      <td>...</td>\n",
       "    </tr>\n",
       "    <tr>\n",
       "      <th>997</th>\n",
       "      <td>female</td>\n",
       "      <td>group C</td>\n",
       "      <td>high school</td>\n",
       "      <td>free/reduced</td>\n",
       "      <td>completed</td>\n",
       "      <td>59</td>\n",
       "      <td>71</td>\n",
       "      <td>65</td>\n",
       "    </tr>\n",
       "    <tr>\n",
       "      <th>998</th>\n",
       "      <td>female</td>\n",
       "      <td>group D</td>\n",
       "      <td>some college</td>\n",
       "      <td>standard</td>\n",
       "      <td>completed</td>\n",
       "      <td>68</td>\n",
       "      <td>78</td>\n",
       "      <td>77</td>\n",
       "    </tr>\n",
       "    <tr>\n",
       "      <th>999</th>\n",
       "      <td>female</td>\n",
       "      <td>group D</td>\n",
       "      <td>some college</td>\n",
       "      <td>free/reduced</td>\n",
       "      <td>none</td>\n",
       "      <td>77</td>\n",
       "      <td>86</td>\n",
       "      <td>86</td>\n",
       "    </tr>\n",
       "    <tr>\n",
       "      <th>1000</th>\n",
       "      <td>female</td>\n",
       "      <td>group D</td>\n",
       "      <td>some college</td>\n",
       "      <td>free/reduced</td>\n",
       "      <td>none</td>\n",
       "      <td>77</td>\n",
       "      <td>86</td>\n",
       "      <td>86</td>\n",
       "    </tr>\n",
       "    <tr>\n",
       "      <th>1001</th>\n",
       "      <td>female</td>\n",
       "      <td>group D</td>\n",
       "      <td>some college</td>\n",
       "      <td>free/reduced</td>\n",
       "      <td>none</td>\n",
       "      <td>77</td>\n",
       "      <td>86</td>\n",
       "      <td>86</td>\n",
       "    </tr>\n",
       "  </tbody>\n",
       "</table>\n",
       "<p>1002 rows × 8 columns</p>\n",
       "</div>"
      ],
      "text/plain": [
       "      gender race_ethnicity parental_level_of_education         lunch  \\\n",
       "0     female        group B           bachelor's degree      standard   \n",
       "1     female        group C                some college      standard   \n",
       "2     female        group B             master's degree      standard   \n",
       "3       male        group A          associate's degree  free/reduced   \n",
       "4       male        group C                some college      standard   \n",
       "...      ...            ...                         ...           ...   \n",
       "997   female        group C                 high school  free/reduced   \n",
       "998   female        group D                some college      standard   \n",
       "999   female        group D                some college  free/reduced   \n",
       "1000  female        group D                some college  free/reduced   \n",
       "1001  female        group D                some college  free/reduced   \n",
       "\n",
       "     test_preparation_course  math_score  reading_score  writing_score  \n",
       "0                       none          72             72             74  \n",
       "1                  completed          69             90             88  \n",
       "2                       none          90             95             93  \n",
       "3                       none          47             57             44  \n",
       "4                       none          76             78             75  \n",
       "...                      ...         ...            ...            ...  \n",
       "997                completed          59             71             65  \n",
       "998                completed          68             78             77  \n",
       "999                     none          77             86             86  \n",
       "1000                    none          77             86             86  \n",
       "1001                    none          77             86             86  \n",
       "\n",
       "[1002 rows x 8 columns]"
      ]
     },
     "execution_count": 4,
     "metadata": {},
     "output_type": "execute_result"
    }
   ],
   "source": [
    "df\n"
   ]
  },
  {
   "cell_type": "code",
   "execution_count": 5,
   "id": "1bed8494",
   "metadata": {},
   "outputs": [],
   "source": [
    "\n",
    "df[\"total_score\"]=df[\"math_score\"]+df[\"reading_score\"]+df[\"writing_score\"]"
   ]
  },
  {
   "cell_type": "code",
   "execution_count": 6,
   "id": "932325c7",
   "metadata": {},
   "outputs": [
    {
     "data": {
      "text/html": [
       "<div>\n",
       "<style scoped>\n",
       "    .dataframe tbody tr th:only-of-type {\n",
       "        vertical-align: middle;\n",
       "    }\n",
       "\n",
       "    .dataframe tbody tr th {\n",
       "        vertical-align: top;\n",
       "    }\n",
       "\n",
       "    .dataframe thead th {\n",
       "        text-align: right;\n",
       "    }\n",
       "</style>\n",
       "<table border=\"1\" class=\"dataframe\">\n",
       "  <thead>\n",
       "    <tr style=\"text-align: right;\">\n",
       "      <th></th>\n",
       "      <th>gender</th>\n",
       "      <th>race_ethnicity</th>\n",
       "      <th>parental_level_of_education</th>\n",
       "      <th>lunch</th>\n",
       "      <th>test_preparation_course</th>\n",
       "      <th>math_score</th>\n",
       "      <th>reading_score</th>\n",
       "      <th>writing_score</th>\n",
       "      <th>total_score</th>\n",
       "    </tr>\n",
       "  </thead>\n",
       "  <tbody>\n",
       "    <tr>\n",
       "      <th>0</th>\n",
       "      <td>female</td>\n",
       "      <td>group B</td>\n",
       "      <td>bachelor's degree</td>\n",
       "      <td>standard</td>\n",
       "      <td>none</td>\n",
       "      <td>72</td>\n",
       "      <td>72</td>\n",
       "      <td>74</td>\n",
       "      <td>218</td>\n",
       "    </tr>\n",
       "    <tr>\n",
       "      <th>1</th>\n",
       "      <td>female</td>\n",
       "      <td>group C</td>\n",
       "      <td>some college</td>\n",
       "      <td>standard</td>\n",
       "      <td>completed</td>\n",
       "      <td>69</td>\n",
       "      <td>90</td>\n",
       "      <td>88</td>\n",
       "      <td>247</td>\n",
       "    </tr>\n",
       "    <tr>\n",
       "      <th>2</th>\n",
       "      <td>female</td>\n",
       "      <td>group B</td>\n",
       "      <td>master's degree</td>\n",
       "      <td>standard</td>\n",
       "      <td>none</td>\n",
       "      <td>90</td>\n",
       "      <td>95</td>\n",
       "      <td>93</td>\n",
       "      <td>278</td>\n",
       "    </tr>\n",
       "    <tr>\n",
       "      <th>3</th>\n",
       "      <td>male</td>\n",
       "      <td>group A</td>\n",
       "      <td>associate's degree</td>\n",
       "      <td>free/reduced</td>\n",
       "      <td>none</td>\n",
       "      <td>47</td>\n",
       "      <td>57</td>\n",
       "      <td>44</td>\n",
       "      <td>148</td>\n",
       "    </tr>\n",
       "    <tr>\n",
       "      <th>4</th>\n",
       "      <td>male</td>\n",
       "      <td>group C</td>\n",
       "      <td>some college</td>\n",
       "      <td>standard</td>\n",
       "      <td>none</td>\n",
       "      <td>76</td>\n",
       "      <td>78</td>\n",
       "      <td>75</td>\n",
       "      <td>229</td>\n",
       "    </tr>\n",
       "    <tr>\n",
       "      <th>...</th>\n",
       "      <td>...</td>\n",
       "      <td>...</td>\n",
       "      <td>...</td>\n",
       "      <td>...</td>\n",
       "      <td>...</td>\n",
       "      <td>...</td>\n",
       "      <td>...</td>\n",
       "      <td>...</td>\n",
       "      <td>...</td>\n",
       "    </tr>\n",
       "    <tr>\n",
       "      <th>997</th>\n",
       "      <td>female</td>\n",
       "      <td>group C</td>\n",
       "      <td>high school</td>\n",
       "      <td>free/reduced</td>\n",
       "      <td>completed</td>\n",
       "      <td>59</td>\n",
       "      <td>71</td>\n",
       "      <td>65</td>\n",
       "      <td>195</td>\n",
       "    </tr>\n",
       "    <tr>\n",
       "      <th>998</th>\n",
       "      <td>female</td>\n",
       "      <td>group D</td>\n",
       "      <td>some college</td>\n",
       "      <td>standard</td>\n",
       "      <td>completed</td>\n",
       "      <td>68</td>\n",
       "      <td>78</td>\n",
       "      <td>77</td>\n",
       "      <td>223</td>\n",
       "    </tr>\n",
       "    <tr>\n",
       "      <th>999</th>\n",
       "      <td>female</td>\n",
       "      <td>group D</td>\n",
       "      <td>some college</td>\n",
       "      <td>free/reduced</td>\n",
       "      <td>none</td>\n",
       "      <td>77</td>\n",
       "      <td>86</td>\n",
       "      <td>86</td>\n",
       "      <td>249</td>\n",
       "    </tr>\n",
       "    <tr>\n",
       "      <th>1000</th>\n",
       "      <td>female</td>\n",
       "      <td>group D</td>\n",
       "      <td>some college</td>\n",
       "      <td>free/reduced</td>\n",
       "      <td>none</td>\n",
       "      <td>77</td>\n",
       "      <td>86</td>\n",
       "      <td>86</td>\n",
       "      <td>249</td>\n",
       "    </tr>\n",
       "    <tr>\n",
       "      <th>1001</th>\n",
       "      <td>female</td>\n",
       "      <td>group D</td>\n",
       "      <td>some college</td>\n",
       "      <td>free/reduced</td>\n",
       "      <td>none</td>\n",
       "      <td>77</td>\n",
       "      <td>86</td>\n",
       "      <td>86</td>\n",
       "      <td>249</td>\n",
       "    </tr>\n",
       "  </tbody>\n",
       "</table>\n",
       "<p>1002 rows × 9 columns</p>\n",
       "</div>"
      ],
      "text/plain": [
       "      gender race_ethnicity parental_level_of_education         lunch  \\\n",
       "0     female        group B           bachelor's degree      standard   \n",
       "1     female        group C                some college      standard   \n",
       "2     female        group B             master's degree      standard   \n",
       "3       male        group A          associate's degree  free/reduced   \n",
       "4       male        group C                some college      standard   \n",
       "...      ...            ...                         ...           ...   \n",
       "997   female        group C                 high school  free/reduced   \n",
       "998   female        group D                some college      standard   \n",
       "999   female        group D                some college  free/reduced   \n",
       "1000  female        group D                some college  free/reduced   \n",
       "1001  female        group D                some college  free/reduced   \n",
       "\n",
       "     test_preparation_course  math_score  reading_score  writing_score  \\\n",
       "0                       none          72             72             74   \n",
       "1                  completed          69             90             88   \n",
       "2                       none          90             95             93   \n",
       "3                       none          47             57             44   \n",
       "4                       none          76             78             75   \n",
       "...                      ...         ...            ...            ...   \n",
       "997                completed          59             71             65   \n",
       "998                completed          68             78             77   \n",
       "999                     none          77             86             86   \n",
       "1000                    none          77             86             86   \n",
       "1001                    none          77             86             86   \n",
       "\n",
       "      total_score  \n",
       "0             218  \n",
       "1             247  \n",
       "2             278  \n",
       "3             148  \n",
       "4             229  \n",
       "...           ...  \n",
       "997           195  \n",
       "998           223  \n",
       "999           249  \n",
       "1000          249  \n",
       "1001          249  \n",
       "\n",
       "[1002 rows x 9 columns]"
      ]
     },
     "execution_count": 6,
     "metadata": {},
     "output_type": "execute_result"
    }
   ],
   "source": [
    "df"
   ]
  },
  {
   "cell_type": "code",
   "execution_count": 8,
   "id": "f4b5c27a",
   "metadata": {},
   "outputs": [
    {
     "data": {
      "text/plain": [
       "<Axes: xlabel='total_score', ylabel='Count'>"
      ]
     },
     "execution_count": 8,
     "metadata": {},
     "output_type": "execute_result"
    },
    {
     "data": {
      "image/png": "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",
      "text/plain": [
       "<Figure size 640x480 with 1 Axes>"
      ]
     },
     "metadata": {},
     "output_type": "display_data"
    }
   ],
   "source": [
    "sns.histplot(df[\"total_score\"],kde=True)"
   ]
  },
  {
   "cell_type": "code",
   "execution_count": 9,
   "id": "2c0d58df",
   "metadata": {},
   "outputs": [],
   "source": [
    "import matplotlib.pyplot as plt\n",
    "import seaborn as sns\n",
    "import streamlit as st"
   ]
  },
  {
   "cell_type": "code",
   "execution_count": 10,
   "id": "d75111a0",
   "metadata": {},
   "outputs": [],
   "source": [
    "sns.set(style=\"whitegrid\")"
   ]
  },
  {
   "cell_type": "code",
   "execution_count": 11,
   "id": "e2a309b2",
   "metadata": {},
   "outputs": [
    {
     "data": {
      "text/plain": [
       "<Figure size 800x400 with 0 Axes>"
      ]
     },
     "execution_count": 11,
     "metadata": {},
     "output_type": "execute_result"
    },
    {
     "data": {
      "text/plain": [
       "<Figure size 800x400 with 0 Axes>"
      ]
     },
     "metadata": {},
     "output_type": "display_data"
    }
   ],
   "source": [
    "plt.figure(figsize=(8, 4))"
   ]
  },
  {
   "cell_type": "code",
   "execution_count": 12,
   "id": "dc2421b8",
   "metadata": {},
   "outputs": [
    {
     "data": {
      "image/png": "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",
      "text/plain": [
       "<Figure size 640x480 with 1 Axes>"
      ]
     },
     "metadata": {},
     "output_type": "display_data"
    }
   ],
   "source": [
    "sns.boxplot(x=\"parental_level_of_education\", y=\"math_score\", data=df)\n",
    "plt.xlabel(\"Parental Education\")\n",
    "plt.ylabel(\"Math Score\")\n",
    "plt.title(\"Math Scores by Parental Education\")\n",
    "plt.show()"
   ]
  },
  {
   "cell_type": "code",
   "execution_count": 13,
   "id": "dc035a26",
   "metadata": {},
   "outputs": [
    {
     "data": {
      "text/plain": [
       "(array([0. , 0.2, 0.4, 0.6, 0.8, 1. ]),\n",
       " [Text(0.0, 0, '0.0'),\n",
       "  Text(0.2, 0, '0.2'),\n",
       "  Text(0.4, 0, '0.4'),\n",
       "  Text(0.6000000000000001, 0, '0.6'),\n",
       "  Text(0.8, 0, '0.8'),\n",
       "  Text(1.0, 0, '1.0')])"
      ]
     },
     "execution_count": 13,
     "metadata": {},
     "output_type": "execute_result"
    },
    {
     "data": {
      "image/png": "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",
      "text/plain": [
       "<Figure size 640x480 with 1 Axes>"
      ]
     },
     "metadata": {},
     "output_type": "display_data"
    }
   ],
   "source": [
    "plt.xticks(rotation=30, ha=\"right\")"
   ]
  },
  {
   "cell_type": "code",
   "execution_count": 14,
   "id": "63309f34",
   "metadata": {},
   "outputs": [
    {
     "data": {
      "image/png": "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",
      "text/plain": [
       "<Figure size 640x480 with 1 Axes>"
      ]
     },
     "metadata": {},
     "output_type": "display_data"
    }
   ],
   "source": [
    "plt.xlabel(\"Parental Education\")\n",
    "plt.ylabel(\"Math Score\")\n",
    "plt.title(\"Math Scores by Parental Education\")\n",
    "plt.show()"
   ]
  },
  {
   "cell_type": "code",
   "execution_count": 15,
   "id": "dc10f31f",
   "metadata": {},
   "outputs": [],
   "source": [
    "prep_scores = df.groupby(\"test_preparation_course\")[[\"math_score\", \"reading_score\", \"writing_score\"]].mean()"
   ]
  },
  {
   "cell_type": "code",
   "execution_count": 16,
   "id": "6e112d81",
   "metadata": {},
   "outputs": [
    {
     "data": {
      "text/html": [
       "<div>\n",
       "<style scoped>\n",
       "    .dataframe tbody tr th:only-of-type {\n",
       "        vertical-align: middle;\n",
       "    }\n",
       "\n",
       "    .dataframe tbody tr th {\n",
       "        vertical-align: top;\n",
       "    }\n",
       "\n",
       "    .dataframe thead th {\n",
       "        text-align: right;\n",
       "    }\n",
       "</style>\n",
       "<table border=\"1\" class=\"dataframe\">\n",
       "  <thead>\n",
       "    <tr style=\"text-align: right;\">\n",
       "      <th></th>\n",
       "      <th>gender</th>\n",
       "      <th>race_ethnicity</th>\n",
       "      <th>parental_level_of_education</th>\n",
       "      <th>lunch</th>\n",
       "      <th>test_preparation_course</th>\n",
       "      <th>math_score</th>\n",
       "      <th>reading_score</th>\n",
       "      <th>writing_score</th>\n",
       "      <th>total_score</th>\n",
       "    </tr>\n",
       "  </thead>\n",
       "  <tbody>\n",
       "    <tr>\n",
       "      <th>0</th>\n",
       "      <td>female</td>\n",
       "      <td>group B</td>\n",
       "      <td>bachelor's degree</td>\n",
       "      <td>standard</td>\n",
       "      <td>none</td>\n",
       "      <td>72</td>\n",
       "      <td>72</td>\n",
       "      <td>74</td>\n",
       "      <td>218</td>\n",
       "    </tr>\n",
       "    <tr>\n",
       "      <th>1</th>\n",
       "      <td>female</td>\n",
       "      <td>group C</td>\n",
       "      <td>some college</td>\n",
       "      <td>standard</td>\n",
       "      <td>completed</td>\n",
       "      <td>69</td>\n",
       "      <td>90</td>\n",
       "      <td>88</td>\n",
       "      <td>247</td>\n",
       "    </tr>\n",
       "    <tr>\n",
       "      <th>2</th>\n",
       "      <td>female</td>\n",
       "      <td>group B</td>\n",
       "      <td>master's degree</td>\n",
       "      <td>standard</td>\n",
       "      <td>none</td>\n",
       "      <td>90</td>\n",
       "      <td>95</td>\n",
       "      <td>93</td>\n",
       "      <td>278</td>\n",
       "    </tr>\n",
       "    <tr>\n",
       "      <th>3</th>\n",
       "      <td>male</td>\n",
       "      <td>group A</td>\n",
       "      <td>associate's degree</td>\n",
       "      <td>free/reduced</td>\n",
       "      <td>none</td>\n",
       "      <td>47</td>\n",
       "      <td>57</td>\n",
       "      <td>44</td>\n",
       "      <td>148</td>\n",
       "    </tr>\n",
       "    <tr>\n",
       "      <th>4</th>\n",
       "      <td>male</td>\n",
       "      <td>group C</td>\n",
       "      <td>some college</td>\n",
       "      <td>standard</td>\n",
       "      <td>none</td>\n",
       "      <td>76</td>\n",
       "      <td>78</td>\n",
       "      <td>75</td>\n",
       "      <td>229</td>\n",
       "    </tr>\n",
       "    <tr>\n",
       "      <th>...</th>\n",
       "      <td>...</td>\n",
       "      <td>...</td>\n",
       "      <td>...</td>\n",
       "      <td>...</td>\n",
       "      <td>...</td>\n",
       "      <td>...</td>\n",
       "      <td>...</td>\n",
       "      <td>...</td>\n",
       "      <td>...</td>\n",
       "    </tr>\n",
       "    <tr>\n",
       "      <th>997</th>\n",
       "      <td>female</td>\n",
       "      <td>group C</td>\n",
       "      <td>high school</td>\n",
       "      <td>free/reduced</td>\n",
       "      <td>completed</td>\n",
       "      <td>59</td>\n",
       "      <td>71</td>\n",
       "      <td>65</td>\n",
       "      <td>195</td>\n",
       "    </tr>\n",
       "    <tr>\n",
       "      <th>998</th>\n",
       "      <td>female</td>\n",
       "      <td>group D</td>\n",
       "      <td>some college</td>\n",
       "      <td>standard</td>\n",
       "      <td>completed</td>\n",
       "      <td>68</td>\n",
       "      <td>78</td>\n",
       "      <td>77</td>\n",
       "      <td>223</td>\n",
       "    </tr>\n",
       "    <tr>\n",
       "      <th>999</th>\n",
       "      <td>female</td>\n",
       "      <td>group D</td>\n",
       "      <td>some college</td>\n",
       "      <td>free/reduced</td>\n",
       "      <td>none</td>\n",
       "      <td>77</td>\n",
       "      <td>86</td>\n",
       "      <td>86</td>\n",
       "      <td>249</td>\n",
       "    </tr>\n",
       "    <tr>\n",
       "      <th>1000</th>\n",
       "      <td>female</td>\n",
       "      <td>group D</td>\n",
       "      <td>some college</td>\n",
       "      <td>free/reduced</td>\n",
       "      <td>none</td>\n",
       "      <td>77</td>\n",
       "      <td>86</td>\n",
       "      <td>86</td>\n",
       "      <td>249</td>\n",
       "    </tr>\n",
       "    <tr>\n",
       "      <th>1001</th>\n",
       "      <td>female</td>\n",
       "      <td>group D</td>\n",
       "      <td>some college</td>\n",
       "      <td>free/reduced</td>\n",
       "      <td>none</td>\n",
       "      <td>77</td>\n",
       "      <td>86</td>\n",
       "      <td>86</td>\n",
       "      <td>249</td>\n",
       "    </tr>\n",
       "  </tbody>\n",
       "</table>\n",
       "<p>1002 rows × 9 columns</p>\n",
       "</div>"
      ],
      "text/plain": [
       "      gender race_ethnicity parental_level_of_education         lunch  \\\n",
       "0     female        group B           bachelor's degree      standard   \n",
       "1     female        group C                some college      standard   \n",
       "2     female        group B             master's degree      standard   \n",
       "3       male        group A          associate's degree  free/reduced   \n",
       "4       male        group C                some college      standard   \n",
       "...      ...            ...                         ...           ...   \n",
       "997   female        group C                 high school  free/reduced   \n",
       "998   female        group D                some college      standard   \n",
       "999   female        group D                some college  free/reduced   \n",
       "1000  female        group D                some college  free/reduced   \n",
       "1001  female        group D                some college  free/reduced   \n",
       "\n",
       "     test_preparation_course  math_score  reading_score  writing_score  \\\n",
       "0                       none          72             72             74   \n",
       "1                  completed          69             90             88   \n",
       "2                       none          90             95             93   \n",
       "3                       none          47             57             44   \n",
       "4                       none          76             78             75   \n",
       "...                      ...         ...            ...            ...   \n",
       "997                completed          59             71             65   \n",
       "998                completed          68             78             77   \n",
       "999                     none          77             86             86   \n",
       "1000                    none          77             86             86   \n",
       "1001                    none          77             86             86   \n",
       "\n",
       "      total_score  \n",
       "0             218  \n",
       "1             247  \n",
       "2             278  \n",
       "3             148  \n",
       "4             229  \n",
       "...           ...  \n",
       "997           195  \n",
       "998           223  \n",
       "999           249  \n",
       "1000          249  \n",
       "1001          249  \n",
       "\n",
       "[1002 rows x 9 columns]"
      ]
     },
     "execution_count": 16,
     "metadata": {},
     "output_type": "execute_result"
    }
   ],
   "source": [
    "df"
   ]
  },
  {
   "cell_type": "code",
   "execution_count": 18,
   "id": "dbcca820",
   "metadata": {},
   "outputs": [],
   "source": [
    "race_scores = df.groupby(\"race_ethnicity\")[[\"math_score\", \"reading_score\", \"writing_score\"]].mean()"
   ]
  },
  {
   "cell_type": "code",
   "execution_count": 19,
   "id": "758dea3a",
   "metadata": {},
   "outputs": [
    {
     "data": {
      "image/png": "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",
      "text/plain": [
       "<Figure size 800x400 with 1 Axes>"
      ]
     },
     "metadata": {},
     "output_type": "display_data"
    }
   ],
   "source": [
    "fig, ax = plt.subplots(figsize=(8, 4))\n",
    "race_scores.plot(kind=\"bar\", ax=ax, width=0.8)\n",
    "plt.xlabel(\"Race/Ethnicity\")\n",
    "plt.ylabel(\"Average Score\")\n",
    "plt.title(\"Average Scores by Race/Ethnicity\")\n",
    "plt.show()\n"
   ]
  },
  {
   "cell_type": "code",
   "execution_count": null,
   "id": "1c3f4729",
   "metadata": {},
   "outputs": [],
   "source": []
  }
 ],
 "metadata": {
  "kernelspec": {
   "display_name": "Python 3",
   "language": "python",
   "name": "python3"
  },
  "language_info": {
   "codemirror_mode": {
    "name": "ipython",
    "version": 3
   },
   "file_extension": ".py",
   "mimetype": "text/x-python",
   "name": "python",
   "nbconvert_exporter": "python",
   "pygments_lexer": "ipython3",
   "version": "3.10.11"
  }
 },
 "nbformat": 4,
 "nbformat_minor": 5
}
import pandas as pd
import matplotlib.pyplot as plt
import seaborn as sns

def plot_reading_score_by_prep(df):
    """
    Plots a bar chart showing the average reading_score grouped by
    test_preparation_course.

    Args:
        df (pd.DataFrame): A DataFrame containing 'test_preparation_course'
                           and 'reading_score' columns.
    """
    # Group the data by 'test_preparation_course' and calculate the mean of 'reading_score'
    avg_scores = df.groupby('test_preparation_course')['reading_score'].mean().reset_index()

    # Create the bar chart using seaborn
    plt.figure(figsize=(8, 6))
    sns.barplot(x='test_preparation_course', y='reading_score', data=avg_scores, palette='viridis')

    # Add titles and labels for clarity
    plt.title('Average Reading Score by Test Preparation Course', fontsize=16)
    plt.xlabel('Test Preparation Course', fontsize=12)
    plt.ylabel('Average Reading Score', fontsize=12)

    # Display the plot
    plt.show()

# --- Example Usage ---

# Create a sample DataFrame to test the function
data = {
    'gender': ['female', 'male', 'female', 'male', 'female', 'male', 'female'],
    'test_preparation_course': ['completed', 'none', 'completed', 'none', 'completed', 'none', 'completed'],
    'reading_score': [75, 55, 88, 60, 92, 45, 80]
}
student_data = pd.DataFrame(data)

# Call the function to plot the chart
plot_reading_score_by_prep(student_data)
import pandas as pd
import matplotlib.pyplot as plt
import seaborn as sns

def plot_math_score_histogram(df):
    """
    Plots a histogram showing the distribution of 'math_score'.

    Args:
        df (pd.DataFrame): A DataFrame containing a 'math_score' column.
    """
    # Set the style for better aesthetics
    sns.set_style("whitegrid")

    # Create the histogram using seaborn's histplot
    plt.figure(figsize=(10, 6))
    sns.histplot(data=df, x='math_score', bins=10, kde=True, color='skyblue')

    # Add titles and labels for clarity
    plt.title('Distribution of Math Scores', fontsize=16, fontweight='bold')
    plt.xlabel('Math Score', fontsize=12)
    plt.ylabel('Frequency', fontsize=12)

    # Add a vertical line for the mean score for extra context
    mean_score = df['math_score'].mean()
    plt.axvline(mean_score, color='red', linestyle='--', linewidth=2, label=f'Mean Score: {mean_score:.2f}')
    plt.legend()

    # Show the plot
    plt.show()

# --- Example Usage ---

# Create a sample DataFrame with student math scores
data = {
    'gender': ['female', 'male', 'female', 'male', 'female', 'male', 'female', 'male', 'female', 'male'],
    'math_score': [75, 55, 88, 60, 92, 45, 80, 78, 65, 85]
}
student_data = pd.DataFrame(data)

# Call the function with the sample data
plot_math_score_histogram(student_data)
